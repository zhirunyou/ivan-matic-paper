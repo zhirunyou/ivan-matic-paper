{
 "cells": [
  {
   "cell_type": "code",
   "execution_count": 1,
   "id": "2ce84f0a-2d41-43ab-8975-e0f37cd67d30",
   "metadata": {},
   "outputs": [
    {
     "name": "stdout",
     "output_type": "stream",
     "text": [
      "Weights (w1, w2, w3): [ 0.9375  0.375  -0.3125]\n",
      "Sum of weights: 0.9999999999999991\n",
      "Portfolio expected return: 0.07000000000000006\n",
      "Portfolio standard deviation: 0.23437499999999928\n"
     ]
    }
   ],
   "source": [
    "import numpy as np\n",
    "\n",
    "# Given data\n",
    "mu = np.array([0.08, 0.12, 0.16])      # expected returns\n",
    "sigma = np.array([0.25, 0.25, 0.30])   # standard deviations\n",
    "rho = np.array([\n",
    "    [1.00, -0.25,  0.25],\n",
    "    [-0.25, 1.00, -0.25],\n",
    "    [0.25, -0.25,  1.00]\n",
    "])\n",
    "Sigma = np.outer(sigma, sigma) * rho   # covariance matrix\n",
    "\n",
    "# Target expected return for the portfolio\n",
    "target_return = 0.07  # 7%\n",
    "\n",
    "# Precompute inverse covariance and helper scalars\n",
    "Sigma_inv = np.linalg.inv(Sigma)\n",
    "ones = np.ones(len(mu))\n",
    "\n",
    "A = ones @ (Sigma_inv @ ones)\n",
    "B = ones @ (Sigma_inv @ mu)\n",
    "C = mu @ (Sigma_inv @ mu)\n",
    "\n",
    "# Solve the 2x2 linear system for Lagrange multipliers (lambda, gamma)\n",
    "# [ A  B ] [lambda] = [1]\n",
    "# [ B  C ] [gamma ]   [target_return]\n",
    "M = np.array([[A, B], [B, C]])\n",
    "rhs = np.array([1.0, target_return])\n",
    "lam, gamma = np.linalg.solve(M, rhs)\n",
    "\n",
    "# Compute weights: w = Sigma_inv (lambda*1 + gamma*mu)\n",
    "w = Sigma_inv @ (lam * ones + gamma * mu)\n",
    "\n",
    "# Portfolio stats\n",
    "mu_p = w @ mu\n",
    "sigma_p = np.sqrt(w @ Sigma @ w)\n",
    "\n",
    "# Print results\n",
    "np.set_printoptions(precision=6, suppress=True)\n",
    "print(\"Weights (w1, w2, w3):\", w)\n",
    "print(\"Sum of weights:\", w.sum())\n",
    "print(\"Portfolio expected return:\", mu_p)\n",
    "print(\"Portfolio standard deviation:\", sigma_p)\n"
   ]
  },
  {
   "cell_type": "code",
   "execution_count": 2,
   "id": "5d49bb43-7d10-48f9-ad84-626ec6b26f7f",
   "metadata": {},
   "outputs": [
    {
     "data": {
      "text/plain": [
       "0.1113281249999996"
      ]
     },
     "execution_count": 2,
     "metadata": {},
     "output_type": "execute_result"
    }
   ],
   "source": [
    "lam"
   ]
  },
  {
   "cell_type": "code",
   "execution_count": 3,
   "id": "e9760b55-c1d4-4d95-b14f-fdc91fbff355",
   "metadata": {},
   "outputs": [
    {
     "data": {
      "text/plain": [
       "-0.8056640624999967"
      ]
     },
     "execution_count": 3,
     "metadata": {},
     "output_type": "execute_result"
    }
   ],
   "source": [
    "gamma"
   ]
  },
  {
   "cell_type": "code",
   "execution_count": null,
   "id": "42b9ae5b-32a8-4064-8d99-bfe9b08b9229",
   "metadata": {},
   "outputs": [],
   "source": []
  }
 ],
 "metadata": {
  "kernelspec": {
   "display_name": "Python 3 (ipykernel)",
   "language": "python",
   "name": "python3"
  },
  "language_info": {
   "codemirror_mode": {
    "name": "ipython",
    "version": 3
   },
   "file_extension": ".py",
   "mimetype": "text/x-python",
   "name": "python",
   "nbconvert_exporter": "python",
   "pygments_lexer": "ipython3",
   "version": "3.12.7"
  }
 },
 "nbformat": 4,
 "nbformat_minor": 5
}
