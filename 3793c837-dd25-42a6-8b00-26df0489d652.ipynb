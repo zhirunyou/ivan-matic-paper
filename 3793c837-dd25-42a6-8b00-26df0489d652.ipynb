{
 "cells": [
  {
   "cell_type": "code",
   "execution_count": 6,
   "id": "d8192277-c068-4076-85c9-6c3b167130b2",
   "metadata": {},
   "outputs": [
    {
     "name": "stdout",
     "output_type": "stream",
     "text": [
      "=== Tangency Portfolio ===\n",
      "Weights: [0.15384615 0.46153846 0.38461538]\n",
      "Expected return: 0.1292\n",
      "Standard deviation: 0.1465\n",
      "Sharpe ratio: 0.6093\n"
     ]
    }
   ],
   "source": [
    "import numpy as np\n",
    "\n",
    "# ---------- Given data ----------\n",
    "mu = np.array([0.08, 0.12, 0.16])        # Expected returns\n",
    "sigma = np.array([0.25, 0.25, 0.30])     # Standard deviations\n",
    "rf = 0.04                                # Risk-free rate\n",
    "\n",
    "# Correlation matrix\n",
    "rho = np.array([\n",
    "    [1.00, -0.25,  0.25],\n",
    "    [-0.25, 1.00, -0.25],\n",
    "    [0.25, -0.25,  1.00]\n",
    "])\n",
    "\n",
    "# Covariance matrix\n",
    "Sigma = np.outer(sigma, sigma) * rho\n",
    "\n",
    "# ---------- (i) Tangency Portfolio ----------\n",
    "# Compute excess returns (over the risk-free rate)\n",
    "excess_mu = mu - rf\n",
    "\n",
    "# Inverse of the covariance matrix\n",
    "Sigma_inv = np.linalg.inv(Sigma)\n",
    "\n",
    "# Tangency portfolio weights (only risky assets, sum to 1)\n",
    "w_tangency = Sigma_inv @ excess_mu\n",
    "w_tangency /= np.sum(w_tangency)\n",
    "\n",
    "# Expected return and standard deviation\n",
    "mu_tangency = w_tangency @ mu\n",
    "sigma_tangency = np.sqrt(w_tangency @ Sigma @ w_tangency)\n",
    "sharpe_tangency = (mu_tangency - rf) / sigma_tangency\n",
    "\n",
    "print(\"=== Tangency Portfolio ===\")\n",
    "print(\"Weights:\", w_tangency)\n",
    "print(\"Expected return: {:.4f}\".format(mu_tangency))\n",
    "print(\"Standard deviation: {:.4f}\".format(sigma_tangency))\n",
    "print(\"Sharpe ratio: {:.4f}\".format(sharpe_tangency))\n",
    "\n"
   ]
  },
  {
   "cell_type": "code",
   "execution_count": 9,
   "id": "13188697-9492-4c18-8e77-a439c66be52e",
   "metadata": {},
   "outputs": [
    {
     "data": {
      "text/plain": [
       "array([[ 0.0625  , -0.015625,  0.01875 ],\n",
       "       [-0.015625,  0.0625  , -0.01875 ],\n",
       "       [ 0.01875 , -0.01875 ,  0.09    ]])"
      ]
     },
     "execution_count": 9,
     "metadata": {},
     "output_type": "execute_result"
    }
   ],
   "source": [
    "Sigma"
   ]
  },
  {
   "cell_type": "code",
   "execution_count": 8,
   "id": "7256969c-3966-46df-b45d-47e922bd0c09",
   "metadata": {},
   "outputs": [
    {
     "data": {
      "text/plain": [
       "array([[17.77777778,  3.55555556, -2.96296296],\n",
       "       [ 3.55555556, 17.77777778,  2.96296296],\n",
       "       [-2.96296296,  2.96296296, 12.34567901]])"
      ]
     },
     "execution_count": 8,
     "metadata": {},
     "output_type": "execute_result"
    }
   ],
   "source": [
    "Sigma_inv"
   ]
  },
  {
   "cell_type": "code",
   "execution_count": 10,
   "id": "e9253475-9c75-43f9-9bb3-82f8007aa892",
   "metadata": {},
   "outputs": [
    {
     "data": {
      "text/plain": [
       "array([0.04, 0.08, 0.12])"
      ]
     },
     "execution_count": 10,
     "metadata": {},
     "output_type": "execute_result"
    }
   ],
   "source": [
    "excess_mu"
   ]
  },
  {
   "cell_type": "code",
   "execution_count": 11,
   "id": "7733d7d9-94f6-49f7-9624-a49a1d489f3c",
   "metadata": {},
   "outputs": [
    {
     "data": {
      "text/plain": [
       "array([0.15384615, 0.46153846, 0.38461538])"
      ]
     },
     "execution_count": 11,
     "metadata": {},
     "output_type": "execute_result"
    }
   ],
   "source": [
    "w_tangency"
   ]
  }
 ],
 "metadata": {
  "kernelspec": {
   "display_name": "Python 3 (ipykernel)",
   "language": "python",
   "name": "python3"
  },
  "language_info": {
   "codemirror_mode": {
    "name": "ipython",
    "version": 3
   },
   "file_extension": ".py",
   "mimetype": "text/x-python",
   "name": "python",
   "nbconvert_exporter": "python",
   "pygments_lexer": "ipython3",
   "version": "3.12.7"
  }
 },
 "nbformat": 4,
 "nbformat_minor": 5
}
