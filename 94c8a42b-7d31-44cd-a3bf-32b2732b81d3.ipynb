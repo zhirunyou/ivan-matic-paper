{
 "cells": [
  {
   "cell_type": "code",
   "execution_count": null,
   "id": "d8192277-c068-4076-85c9-6c3b167130b2",
   "metadata": {},
   "outputs": [],
   "source": [
    "import numpy as np\n",
    "import pandas as pd\n",
    "\n",
    "A = np.array([\n",
    "    [2.5, 102.5,   0.0,    0.0],\n",
    "    [3.0,   3.0, 103.0,    0.0],\n",
    "    [0.0,   8.0,   0.0,  108.0],\n",
    "    [3.5,   3.5,   3.5, 103.5]\n",
    "])\n",
    "b = np.array([104.5, 106.0, 110.0, 108.6])\n",
    "d = np.linalg.solve(A, b)\n",
    "df = pd.DataFrame({\"Month\": [2, 8, 14, 20], \"Discount Factor\": d})\n",
    "pd.set_option('display.float_format', '{:.10f}'.format)\n",
    "print(df)\n"
   ]
  }
 ],
 "metadata": {
  "kernelspec": {
   "display_name": "Python 3 (ipykernel)",
   "language": "python",
   "name": "python3"
  },
  "language_info": {
   "codemirror_mode": {
    "name": "ipython",
    "version": 3
   },
   "file_extension": ".py",
   "mimetype": "text/x-python",
   "name": "python",
   "nbconvert_exporter": "python",
   "pygments_lexer": "ipython3",
   "version": "3.12.7"
  }
 },
 "nbformat": 4,
 "nbformat_minor": 5
}
