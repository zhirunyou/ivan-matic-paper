{
 "cells": [
  {
   "cell_type": "code",
   "execution_count": 5,
   "id": "d8192277-c068-4076-85c9-6c3b167130b2",
   "metadata": {},
   "outputs": [
    {
     "name": "stdout",
     "output_type": "stream",
     "text": [
      "\n",
      "=== Minimum Variance Portfolio ===\n",
      "Weights: [0.33393178 0.44165171 0.22441652]\n",
      "Expected return: 0.1156\n",
      "Standard deviation: 0.1348\n"
     ]
    }
   ],
   "source": [
    "import numpy as np\n",
    "\n",
    "# ---------- Given data ----------\n",
    "mu = np.array([0.08, 0.12, 0.16])        # Expected returns\n",
    "sigma = np.array([0.25, 0.25, 0.30])     # Standard deviations\n",
    "rf = 0.04                                # Risk-free rate\n",
    "\n",
    "# Correlation matrix\n",
    "rho = np.array([\n",
    "    [1.00, -0.25,  0.25],\n",
    "    [-0.25, 1.00, -0.25],\n",
    "    [0.25, -0.25,  1.00]\n",
    "])\n",
    "# Covariance matrix\n",
    "Sigma = np.outer(sigma, sigma) * rho\n",
    "\n",
    "# excess return\n",
    "excess_mu = mu - rf\n",
    "\n",
    "# Inverse of the covariance matrix\n",
    "Sigma_inv = np.linalg.inv(Sigma)\n",
    "\n",
    "\n",
    "# ---------- Minimum Variance Portfolio ----------\n",
    "ones = np.ones(len(mu))\n",
    "w_mvp = Sigma_inv @ ones\n",
    "w_mvp /= np.sum(w_mvp)\n",
    "\n",
    "mu_mvp = w_mvp @ mu\n",
    "sigma_mvp = np.sqrt(w_mvp @ Sigma @ w_mvp)\n",
    "\n",
    "print(\"\\n=== Minimum Variance Portfolio ===\")\n",
    "print(\"Weights:\", w_mvp)\n",
    "print(\"Expected return: {:.4f}\".format(mu_mvp))\n",
    "print(\"Standard deviation: {:.4f}\".format(sigma_mvp))\n"
   ]
  },
  {
   "cell_type": "code",
   "execution_count": 6,
   "id": "2da409f2-0329-46ce-942d-64b7a6aee981",
   "metadata": {},
   "outputs": [
    {
     "data": {
      "text/plain": [
       "array([[ 0.0625  , -0.015625,  0.01875 ],\n",
       "       [-0.015625,  0.0625  , -0.01875 ],\n",
       "       [ 0.01875 , -0.01875 ,  0.09    ]])"
      ]
     },
     "execution_count": 6,
     "metadata": {},
     "output_type": "execute_result"
    }
   ],
   "source": [
    "Sigma"
   ]
  },
  {
   "cell_type": "code",
   "execution_count": 7,
   "id": "a684362a-c118-4b14-8648-e27e25d97e5c",
   "metadata": {},
   "outputs": [
    {
     "data": {
      "text/plain": [
       "array([0.04, 0.08, 0.12])"
      ]
     },
     "execution_count": 7,
     "metadata": {},
     "output_type": "execute_result"
    }
   ],
   "source": [
    "excess_mu"
   ]
  },
  {
   "cell_type": "code",
   "execution_count": 8,
   "id": "7b6fb9cf-109b-4720-b666-2e954b3a613c",
   "metadata": {},
   "outputs": [
    {
     "data": {
      "text/plain": [
       "array([[17.77777778,  3.55555556, -2.96296296],\n",
       "       [ 3.55555556, 17.77777778,  2.96296296],\n",
       "       [-2.96296296,  2.96296296, 12.34567901]])"
      ]
     },
     "execution_count": 8,
     "metadata": {},
     "output_type": "execute_result"
    }
   ],
   "source": [
    "Sigma_inv"
   ]
  }
 ],
 "metadata": {
  "kernelspec": {
   "display_name": "Python 3 (ipykernel)",
   "language": "python",
   "name": "python3"
  },
  "language_info": {
   "codemirror_mode": {
    "name": "ipython",
    "version": 3
   },
   "file_extension": ".py",
   "mimetype": "text/x-python",
   "name": "python",
   "nbconvert_exporter": "python",
   "pygments_lexer": "ipython3",
   "version": "3.12.7"
  }
 },
 "nbformat": 4,
 "nbformat_minor": 5
}
