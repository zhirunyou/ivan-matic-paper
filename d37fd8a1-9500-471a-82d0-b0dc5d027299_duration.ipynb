{
 "cells": [
  {
   "cell_type": "code",
   "execution_count": 1,
   "id": "a5abbdcd-999a-4c8d-834a-6e41eefc5995",
   "metadata": {},
   "outputs": [
    {
     "name": "stdout",
     "output_type": "stream",
     "text": [
      "       Price  Yield (continuous)  Duration  Convexity\n",
      "0  100.03125            0.033401  4.642735  22.573118\n"
     ]
    }
   ],
   "source": [
    "import pandas as pd\n",
    "import numpy as np\n",
    "\n",
    "# ====== Parameters ======\n",
    "C = 1.6875        # Semiannual coupon\n",
    "F = 100           # Face value\n",
    "T = 5             # Maturity in years\n",
    "Price = 100.03125 # Market price\n",
    "times = np.arange(0.5, T+0.1, 0.5)  # Semiannual periods\n",
    "y0 = 0.1          # Initial guess for yield\n",
    "\n",
    "# ====== Newton's Method Iterations ======\n",
    "y = [y0]\n",
    "P_list = []\n",
    "f_list = []\n",
    "fprime_list = []\n",
    "y_next_list = []\n",
    "\n",
    "for i in range(4):\n",
    "    exp_terms = np.exp(-y[-1]*times)\n",
    "    P = np.sum(C*exp_terms) + F*np.exp(-y[-1]*T)\n",
    "    P_list.append(P)\n",
    "    f = P - Price\n",
    "    f_list.append(f)\n",
    "    fprime = np.sum(-times*C*exp_terms) - T*F*np.exp(-y[-1]*T)\n",
    "    fprime_list.append(fprime)\n",
    "    y_next = y[-1] - f/fprime\n",
    "    y_next_list.append(y_next)\n",
    "    y.append(y_next)\n",
    "\n",
    "# Include iteration 0\n",
    "exp_terms0 = np.exp(-y[0]*times)\n",
    "P0 = np.sum(C*exp_terms0) + F*np.exp(-y[0]*T)\n",
    "f0 = P0 - Price\n",
    "fprime0 = np.sum(-times*C*exp_terms0) - T*F*np.exp(-y[0]*T)\n",
    "\n",
    "iterations_df = pd.DataFrame({\n",
    "    'Iteration': [0,1,2,3,4],\n",
    "    'y_n': y[:5],\n",
    "    'P(y_n)': [P0]+P_list,\n",
    "    'f(y_n)': [f0]+f_list,\n",
    "    \"f'(y_n)\": [fprime0]+fprime_list,\n",
    "    'y_{n+1}': [y_next_list[0]]+y_next_list\n",
    "})\n",
    "\n",
    "# ====== Duration and Convexity ======\n",
    "yield_final = y[-1]\n",
    "exp_terms_y = np.exp(-yield_final*times)\n",
    "PV_coupons = C*exp_terms_y\n",
    "tPV = times*PV_coupons\n",
    "t2PV = (times**2)*PV_coupons\n",
    "PV_face = F*np.exp(-yield_final*T)\n",
    "tPV_face = T*PV_face\n",
    "t2PV_face = T**2*PV_face\n",
    "\n",
    "duration = (np.sum(tPV)+tPV_face)/Price\n",
    "convexity = (np.sum(t2PV)+t2PV_face)/Price\n",
    "\n",
    "dur_conv_df = pd.DataFrame({\n",
    "    't': np.append(times, T),\n",
    "    'PV': np.append(PV_coupons, PV_face),\n",
    "    't*PV': np.append(tPV, tPV_face),\n",
    "    't^2*PV': np.append(t2PV, t2PV_face)\n",
    "})\n",
    "\n",
    "summary_df = pd.DataFrame({\n",
    "    'Price': [Price],\n",
    "    'Yield (continuous)': [yield_final],\n",
    "    'Duration': [duration],\n",
    "    'Convexity': [convexity]\n",
    "})\n",
    "\n",
    "print(summary_df)"
   ]
  },
  {
   "cell_type": "code",
   "execution_count": 2,
   "id": "c2827371-09c8-4162-80bd-f4109bdca326",
   "metadata": {},
   "outputs": [
    {
     "name": "stdout",
     "output_type": "stream",
     "text": [
      "The yield after each iteration\n",
      "[0.021397014741595916, 0.03305732886033832, 0.03340081140223472, 0.033401098538030694]\n"
     ]
    }
   ],
   "source": [
    "print('The yield after each iteration')\n",
    "print(y_next_list)"
   ]
  },
  {
   "cell_type": "code",
   "execution_count": 3,
   "id": "6ecda1f4-4acb-4c0a-973b-270699ae588b",
   "metadata": {},
   "outputs": [
    {
     "name": "stdout",
     "output_type": "stream",
     "text": [
      "   Iteration       y_n      P(y_n)     f(y_n)     f'(y_n)   y_{n+1}\n",
      "0          0  0.100000   73.603433 -26.427817 -336.219000  0.021397\n",
      "1          1  0.021397   73.603433 -26.427817 -336.219000  0.021397\n",
      "2          2  0.033057  105.772115   5.740865 -492.342255  0.033057\n",
      "3          3  0.033401  100.191037   0.159787 -465.195486  0.033401\n",
      "4          4  0.033401  100.031383   0.000133 -464.419239  0.033401\n"
     ]
    }
   ],
   "source": [
    "print(iterations_df)"
   ]
  },
  {
   "cell_type": "code",
   "execution_count": null,
   "id": "472d6c2b-05ba-4e0c-a3bb-e3f0debcc8f8",
   "metadata": {},
   "outputs": [],
   "source": []
  }
 ],
 "metadata": {
  "kernelspec": {
   "display_name": "Python 3 (ipykernel)",
   "language": "python",
   "name": "python3"
  },
  "language_info": {
   "codemirror_mode": {
    "name": "ipython",
    "version": 3
   },
   "file_extension": ".py",
   "mimetype": "text/x-python",
   "name": "python",
   "nbconvert_exporter": "python",
   "pygments_lexer": "ipython3",
   "version": "3.12.7"
  }
 },
 "nbformat": 4,
 "nbformat_minor": 5
}
