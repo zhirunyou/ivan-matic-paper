{
 "cells": [
  {
   "cell_type": "code",
   "execution_count": 1,
   "id": "32ae77bd-acf7-4635-a658-e2b19669e1d0",
   "metadata": {},
   "outputs": [
    {
     "name": "stdout",
     "output_type": "stream",
     "text": [
      "Optimal Weights: [-0.04152061  0.48310594  0.55841468]\n",
      "Expected Return: 0.1440\n",
      "Portfolio Std: 0.1800\n"
     ]
    }
   ],
   "source": [
    "import numpy as np\n",
    "from scipy.optimize import minimize\n",
    "\n",
    "# === Given data ===\n",
    "mu = np.array([0.08, 0.12, 0.16])  # expected returns\n",
    "sigma = np.array([0.25, 0.25, 0.30])  # standard deviations\n",
    "\n",
    "# Correlation matrix\n",
    "corr = np.array([\n",
    "    [1.00, -0.25, 0.25],\n",
    "    [-0.25, 1.00, -0.25],\n",
    "    [0.25, -0.25, 1.00]\n",
    "])\n",
    "\n",
    "# Covariance matrix\n",
    "cov = np.outer(sigma, sigma) * corr\n",
    "\n",
    "# Target portfolio standard deviation\n",
    "target_std = 0.18\n",
    "\n",
    "# === Optimization setup ===\n",
    "\n",
    "# Objective: maximize return (minimize negative return)\n",
    "def neg_expected_return(w):\n",
    "    return -np.dot(w, mu)\n",
    "\n",
    "# Constraints:\n",
    "# 1. weights sum to 1\n",
    "# 2. portfolio std = 0.18\n",
    "def portfolio_std(w):\n",
    "    return np.sqrt(np.dot(w.T, np.dot(cov, w)))\n",
    "\n",
    "constraints = (\n",
    "    {'type': 'eq', 'fun': lambda w: np.sum(w) - 1},                 # sum of weights = 1\n",
    "    {'type': 'eq', 'fun': lambda w: portfolio_std(w) - target_std}  # target std constraint\n",
    ")\n",
    "\n",
    "# Bounds: allow short selling or not?\n",
    "bounds = None  # None means short selling allowed; set (0,1) for no short selling\n",
    "\n",
    "# Initial guess\n",
    "w0 = np.array([1/3, 1/3, 1/3])\n",
    "\n",
    "# Solve optimization\n",
    "result = minimize(neg_expected_return, w0, constraints=constraints, bounds=bounds)\n",
    "\n",
    "# Extract results\n",
    "w_opt = result.x\n",
    "expected_return = np.dot(w_opt, mu)\n",
    "actual_std = portfolio_std(w_opt)\n",
    "\n",
    "# === Print results ===\n",
    "print(\"Optimal Weights:\", w_opt)\n",
    "print(f\"Expected Return: {expected_return:.4f}\")\n",
    "print(f\"Portfolio Std: {actual_std:.4f}\")\n"
   ]
  }
 ],
 "metadata": {
  "kernelspec": {
   "display_name": "Python 3 (ipykernel)",
   "language": "python",
   "name": "python3"
  },
  "language_info": {
   "codemirror_mode": {
    "name": "ipython",
    "version": 3
   },
   "file_extension": ".py",
   "mimetype": "text/x-python",
   "name": "python",
   "nbconvert_exporter": "python",
   "pygments_lexer": "ipython3",
   "version": "3.12.7"
  }
 },
 "nbformat": 4,
 "nbformat_minor": 5
}
