{
 "cells": [
  {
   "cell_type": "code",
   "execution_count": 2,
   "id": "d57085c3-459c-4fe2-a142-589bc4d6f1e3",
   "metadata": {},
   "outputs": [
    {
     "name": "stdout",
     "output_type": "stream",
     "text": [
      "==================d1 and d2=================\n",
      "0.22391714737574006\n",
      "0.011785113019775806\n",
      "==================d1 and d2=================\n",
      "-1.035028895638704\n",
      "-1.2471609299946682\n",
      "===== Down-and-Out Call Option =====\n",
      "Parameters: S=40.0, K=40.0, t=0.5 years, sigma=0.3, r=0.05, q=0.0, B=35.0\n",
      "a = 0.05555556\n",
      "C(S,K,t) = 3.85395065\n",
      "S' = B^2 / S = 30.62500000\n",
      "C(S',K,t) = 0.46186928\n",
      "(B/S)^(2a) = 0.98527270\n",
      "\n",
      "Down-and-out call value V = 3.39888345\n",
      "Rounded answer: V = $3.3989\n"
     ]
    }
   ],
   "source": [
    "import math\n",
    "\n",
    "# ====== Down-and-Out Call Option Pricing ======\n",
    "# Formula:\n",
    "# V(S,K,t) = C(S,K,t) - (B/S)^(2a) * C(B^2/S, K, t)\n",
    "# a = (r - q)/sigma^2 - 1/2\n",
    "\n",
    "# ====== Given Parameters ======\n",
    "S = 40.0        # Spot price\n",
    "K = 40.0        # Strike price\n",
    "t = 0.5         # Time to maturity (in years)\n",
    "sigma = 0.30    # Volatility (30%)\n",
    "r = 0.05        # Risk-free rate (5%)\n",
    "q = 0.0         # Dividend yield (0 for non-dividend-paying asset)\n",
    "B = 35.0        # Barrier\n",
    "\n",
    "# ====== Helper functions ======\n",
    "def Phi(x):\n",
    "    \"\"\"Standard normal CDF\"\"\"\n",
    "    return 0.5 * (1.0 + math.erf(x / math.sqrt(2.0)))\n",
    "\n",
    "def bs_call_price(S_, K_, t_, r_, sigma_, q_=0.0):\n",
    "    \"\"\"Black-Scholes European call price\"\"\"\n",
    "    if t_ <= 0 or S_ <= 0 or K_ <= 0:\n",
    "        return max(S_ - K_, 0.0)\n",
    "    sqrt_t = math.sqrt(t_)\n",
    "    d1 = (math.log(S_ / K_) + (r_ - q_ + 0.5 * sigma_**2) * t_) / (sigma_ * sqrt_t)\n",
    "    d2 = d1 - sigma_ * sqrt_t\n",
    "    print(\"==================d1 and d2=================\")\n",
    "    print(d1)\n",
    "    print(d2)\n",
    "    return S_ * math.exp(-q_ * t_) * Phi(d1) - K_ * math.exp(-r_ * t_) * Phi(d2)\n",
    "\n",
    "# ====== Computation ======\n",
    "a = (r - q) / (sigma**2) - 0.5\n",
    "C1 = bs_call_price(S, K, t, r, sigma, q)\n",
    "S_prime = (B**2) / S\n",
    "C2 = bs_call_price(S_prime, K, t, r, sigma, q)\n",
    "multiplier = (B / S) ** (2.0 * a)\n",
    "V = C1 - multiplier * C2\n",
    "\n",
    "# ====== Output ======\n",
    "print(\"===== Down-and-Out Call Option =====\")\n",
    "print(f\"Parameters: S={S}, K={K}, t={t} years, sigma={sigma}, r={r}, q={q}, B={B}\")\n",
    "print(f\"a = {a:.8f}\")\n",
    "print(f\"C(S,K,t) = {C1:.8f}\")\n",
    "print(f\"S' = B^2 / S = {S_prime:.8f}\")\n",
    "print(f\"C(S',K,t) = {C2:.8f}\")\n",
    "print(f\"(B/S)^(2a) = {multiplier:.8f}\")\n",
    "print(f\"\\nDown-and-out call value V = {V:.8f}\")\n",
    "print(f\"Rounded answer: V = ${V:.4f}\")\n"
   ]
  }
 ],
 "metadata": {
  "kernelspec": {
   "display_name": "Python 3 (ipykernel)",
   "language": "python",
   "name": "python3"
  },
  "language_info": {
   "codemirror_mode": {
    "name": "ipython",
    "version": 3
   },
   "file_extension": ".py",
   "mimetype": "text/x-python",
   "name": "python",
   "nbconvert_exporter": "python",
   "pygments_lexer": "ipython3",
   "version": "3.12.7"
  }
 },
 "nbformat": 4,
 "nbformat_minor": 5
}
