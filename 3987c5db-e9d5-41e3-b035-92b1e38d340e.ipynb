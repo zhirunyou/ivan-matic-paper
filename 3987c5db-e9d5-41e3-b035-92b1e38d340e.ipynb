{
 "cells": [
  {
   "cell_type": "code",
   "execution_count": 5,
   "id": "d57085c3-459c-4fe2-a142-589bc4d6f1e3",
   "metadata": {},
   "outputs": [
    {
     "name": "stdout",
     "output_type": "stream",
     "text": [
      "===== Down-and-Out Call Option Delta (Finite Difference) =====\n",
      "S = 40.0, K = 40.0, B = 35.0, t = 0.5, sigma = 0.3, r = 0.05\n",
      "Base option value V(S) = 3.398883\n",
      "V(S+ΔS) = 3.398954, V(S-ΔS) = 3.398813\n",
      "ΔS = 0.0001\n",
      "Finite difference Delta ≈ 0.703253\n"
     ]
    }
   ],
   "source": [
    "import math\n",
    "\n",
    "# ====== Down-and-Out Call Option Delta via Finite Difference ======\n",
    "# Formula:\n",
    "# V(S,K,t) = C(S,K,t) - (B/S)^(2a) * C(B^2/S, K, t)\n",
    "# a = (r - q)/sigma^2 - 1/2\n",
    "# Delta ≈ (V(S+ΔS) - V(S-ΔS)) / (2ΔS)\n",
    "\n",
    "# ====== Given Parameters ======\n",
    "S = 40.0        # Spot price\n",
    "K = 40.0        # Strike price\n",
    "t = 0.5         # Time to maturity (years)\n",
    "sigma = 0.30    # Volatility (30%)\n",
    "r = 0.05        # Risk-free rate (5%)\n",
    "q = 0.0         # Dividend yield (non-dividend-paying asset)\n",
    "B = 35.0        # Barrier\n",
    "dS = 0.0001       # Small price increment for finite difference\n",
    "\n",
    "# ====== Helper functions ======\n",
    "def Phi(x):\n",
    "    \"\"\"Standard normal CDF\"\"\"\n",
    "    return 0.5 * (1.0 + math.erf(x / math.sqrt(2.0)))\n",
    "\n",
    "def bs_call_price(S_, K_, t_, r_, sigma_, q_=0.0):\n",
    "    \"\"\"Black-Scholes European call price\"\"\"\n",
    "    if t_ <= 0 or S_ <= 0 or K_ <= 0:\n",
    "        return max(S_ - K_, 0.0)\n",
    "    sqrt_t = math.sqrt(t_)\n",
    "    d1 = (math.log(S_ / K_) + (r_ - q_ + 0.5 * sigma_**2) * t_) / (sigma_ * sqrt_t)\n",
    "    d2 = d1 - sigma_ * sqrt_t\n",
    "    return S_ * math.exp(-q_ * t_) * Phi(d1) - K_ * math.exp(-r_ * t_) * Phi(d2)\n",
    "\n",
    "def down_and_out_call(S_, K_, t_, r_, sigma_, q_, B_):\n",
    "    \"\"\"Analytical price of a down-and-out call using reflection principle\"\"\"\n",
    "    a = (r_ - q_) / (sigma_**2) - 0.5\n",
    "    C1 = bs_call_price(S_, K_, t_, r_, sigma_, q_)\n",
    "    S_prime = (B_**2) / S_\n",
    "    C2 = bs_call_price(S_prime, K_, t_, r_, sigma_, q_)\n",
    "    multiplier = (B_ / S_) ** (2.0 * a)\n",
    "    return C1 - multiplier * C2\n",
    "\n",
    "# ====== Compute central finite difference Delta ======\n",
    "V_plus  = down_and_out_call(S + dS, K, t, r, sigma, q, B)\n",
    "V = down_and_out_call(S, K, t, r, sigma, q, B)\n",
    "V_minus = down_and_out_call(S - dS, K, t, r, sigma, q, B)\n",
    "Delta_fd = (V_plus - V_minus) / (2 * dS)\n",
    "\n",
    "# ====== Also compute base price ======\n",
    "V0 = down_and_out_call(S, K, t, r, sigma, q, B)\n",
    "\n",
    "# ====== Output ======\n",
    "print(\"===== Down-and-Out Call Option Delta (Finite Difference) =====\")\n",
    "print(f\"S = {S}, K = {K}, B = {B}, t = {t}, sigma = {sigma}, r = {r}\")\n",
    "print(f\"Base option value V(S) = {V0:.6f}\")\n",
    "print(f\"V(S+ΔS) = {V_plus:.6f}, V(S-ΔS) = {V_minus:.6f}\")\n",
    "print(f\"ΔS = {dS}\")\n",
    "print(f\"Finite difference Delta ≈ {Delta_fd:.6f}\")\n"
   ]
  }
 ],
 "metadata": {
  "kernelspec": {
   "display_name": "Python 3 (ipykernel)",
   "language": "python",
   "name": "python3"
  },
  "language_info": {
   "codemirror_mode": {
    "name": "ipython",
    "version": 3
   },
   "file_extension": ".py",
   "mimetype": "text/x-python",
   "name": "python",
   "nbconvert_exporter": "python",
   "pygments_lexer": "ipython3",
   "version": "3.12.7"
  }
 },
 "nbformat": 4,
 "nbformat_minor": 5
}
